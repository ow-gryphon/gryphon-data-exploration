{
 "cells": [
  {
   "cell_type": "markdown",
   "id": "a2eb47ce",
   "metadata": {},
   "source": [
    "<div class=\"alert alert-danger\" role=\"alert\">\n",
    "    <span style=\"font-size:20px\">&#9888;</span> <span style=\"font-size:16px\">This is a read-only notebook! If you want to make and save changes, save a copy by clicking on <b>File</b> &#8594; <b>Save a copy</b>. If this is already a copy, you can delete this cell.</span>\n",
    "</div>"
   ]
  },
  {
   "cell_type": "markdown",
   "id": "1c91268e",
   "metadata": {},
   "source": [
    "# Numerical variable analysis\n",
    "\n",
    "This notebook provides methods to analyze individual numerical variables in a dataset\n",
    "\n",
    "**Table of contents**\n",
    "    \n",
    "- **<a href=\"#dataset_overview\">Simple dataset overview</a>**\n",
    "- **<a href=\"#detailed_dataset_overview\">Detailed dataset overview</a>**\n",
    "\t- <a href=\"#numerical_variable_check\">Numerical variable checks</a>\n",
    "\t- <a href=\"#non_numerical_variable_check\">Non-numerical variable checks</a>\n",
    "\t- <a href=\"#missing_value_check\">Missing value checks</a>\n",
    "\t\t- <a href=\"#missing_histogram\">Histogram of missings</a>\n",
    "\t\t- <a href=\"#missing_lineplot\">Line plot of missings</a>\n",
    "\t\t- <a href=\"#missing_boxplot\">Box plot of missings</a>\n",
    "\n",
    "This notebook primarily uses capabilities from numpy and pandas. "
   ]
  },
  {
   "cell_type": "markdown",
   "id": "56e4800a",
   "metadata": {},
   "source": [
    "**We begin by importing key libraries and custom functions**"
   ]
  },
  {
   "cell_type": "code",
   "execution_count": 7,
   "id": "1ca745dc",
   "metadata": {},
   "outputs": [],
   "source": [
    "# Import key libraries\n",
    "import pandas as pd\n",
    "import numpy as np\n",
    "import matplotlib.pyplot as plt\n",
    "import seaborn as sns # For more advanced plots"
   ]
  },
  {
   "cell_type": "code",
   "execution_count": 8,
   "id": "054b9a28",
   "metadata": {},
   "outputs": [],
   "source": [
    "# Add path of the folder 'utilities' to the path from which we can import modules  \n",
    "import sys\n",
    "sys.path.append('../../utilities')"
   ]
  },
  {
   "cell_type": "code",
   "execution_count": 9,
   "id": "9d524839",
   "metadata": {},
   "outputs": [
    {
     "name": "stdout",
     "output_type": "stream",
     "text": [
      "The autoreload extension is already loaded. To reload it, use:\n",
      "  %reload_ext autoreload\n"
     ]
    }
   ],
   "source": [
    "%load_ext autoreload\n",
    "%autoreload 2"
   ]
  },
  {
   "cell_type": "markdown",
   "id": "524052de",
   "metadata": {},
   "source": [
    "**Optional import of OW color scheme**"
   ]
  },
  {
   "cell_type": "code",
   "execution_count": 10,
   "id": "12fb6e1d",
   "metadata": {},
   "outputs": [],
   "source": [
    "# Load in OW color scheme and plot style\n",
    "plt.style.use('../../utilities/resources/ow_style.mplstyle')\n",
    "from resources.ow_colormap import ow_colormap "
   ]
  },
  {
   "cell_type": "markdown",
   "id": "aee2af4f",
   "metadata": {},
   "source": [
    "**Read in CSV data**"
   ]
  },
  {
   "cell_type": "code",
   "execution_count": 12,
   "id": "f5b0dd04",
   "metadata": {},
   "outputs": [],
   "source": [
    "# Read in the data using pandas, with low_memory=False in case the dataset is large\n",
    "dataset = pd.read_csv(\"sample_input/exploration_hmda_lar.csv\", low_memory=False)"
   ]
  },
  {
   "cell_type": "markdown",
   "id": "3ac69d9b",
   "metadata": {},
   "source": [
    "# Variable distribution\n",
    "\n",
    "This section provides statistics and plots for a single numeric variable. Note: The other main section provides 'grouped' analyses of a variable. \n",
    "\n",
    "* "
   ]
  },
  {
   "cell_type": "markdown",
   "id": "c4e88897",
   "metadata": {},
   "source": [
    "**Summary statistics**"
   ]
  },
  {
   "cell_type": "code",
   "execution_count": 15,
   "id": "3fa797ba",
   "metadata": {},
   "outputs": [
    {
     "data": {
      "text/plain": [
       "numpy.ndarray"
      ]
     },
     "execution_count": 15,
     "metadata": {},
     "output_type": "execute_result"
    }
   ],
   "source": [
    "type(np.array([1,2,3]))"
   ]
  },
  {
   "cell_type": "code",
   "execution_count": null,
   "id": "d4c0d050",
   "metadata": {},
   "outputs": [],
   "source": []
  },
  {
   "cell_type": "code",
   "execution_count": null,
   "id": "6dcd7f10",
   "metadata": {},
   "outputs": [],
   "source": []
  },
  {
   "cell_type": "markdown",
   "id": "57c71d08",
   "metadata": {},
   "source": [
    "# Grouped variable distribution"
   ]
  },
  {
   "cell_type": "code",
   "execution_count": null,
   "id": "82c99927",
   "metadata": {},
   "outputs": [],
   "source": []
  }
 ],
 "metadata": {
  "kernelspec": {
   "display_name": "Python 3 (ipykernel)",
   "language": "python",
   "name": "python3"
  },
  "language_info": {
   "codemirror_mode": {
    "name": "ipython",
    "version": 3
   },
   "file_extension": ".py",
   "mimetype": "text/x-python",
   "name": "python",
   "nbconvert_exporter": "python",
   "pygments_lexer": "ipython3",
   "version": "3.9.5"
  },
  "toc": {
   "base_numbering": 1,
   "nav_menu": {},
   "number_sections": true,
   "sideBar": true,
   "skip_h1_title": false,
   "title_cell": "Table of Contents",
   "title_sidebar": "Contents",
   "toc_cell": false,
   "toc_position": {},
   "toc_section_display": true,
   "toc_window_display": false
  }
 },
 "nbformat": 4,
 "nbformat_minor": 5
}
